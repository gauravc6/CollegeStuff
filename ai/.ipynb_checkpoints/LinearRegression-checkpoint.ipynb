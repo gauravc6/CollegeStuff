{
 "cells": [
  {
   "cell_type": "code",
   "execution_count": 1,
   "metadata": {},
   "outputs": [],
   "source": [
    "import numpy as np\n",
    "import pandas as pd\n",
    "import matplotlib.pyplot as plt\n",
    "plt.rcParams[\"figure.figsize\"] = (20,10)"
   ]
  },
  {
   "cell_type": "code",
   "execution_count": 2,
   "metadata": {},
   "outputs": [],
   "source": [
    "df = pd.read_csv('csv/headbrain.csv')"
   ]
  },
  {
   "cell_type": "code",
   "execution_count": 3,
   "metadata": {},
   "outputs": [
    {
     "data": {
      "text/html": [
       "<div>\n",
       "<style scoped>\n",
       "    .dataframe tbody tr th:only-of-type {\n",
       "        vertical-align: middle;\n",
       "    }\n",
       "\n",
       "    .dataframe tbody tr th {\n",
       "        vertical-align: top;\n",
       "    }\n",
       "\n",
       "    .dataframe thead th {\n",
       "        text-align: right;\n",
       "    }\n",
       "</style>\n",
       "<table border=\"1\" class=\"dataframe\">\n",
       "  <thead>\n",
       "    <tr style=\"text-align: right;\">\n",
       "      <th></th>\n",
       "      <th>Gender</th>\n",
       "      <th>Age Range</th>\n",
       "      <th>Head Size(cm^3)</th>\n",
       "      <th>Brain Weight(grams)</th>\n",
       "    </tr>\n",
       "  </thead>\n",
       "  <tbody>\n",
       "    <tr>\n",
       "      <th>0</th>\n",
       "      <td>1</td>\n",
       "      <td>1</td>\n",
       "      <td>4512</td>\n",
       "      <td>1530</td>\n",
       "    </tr>\n",
       "    <tr>\n",
       "      <th>1</th>\n",
       "      <td>1</td>\n",
       "      <td>1</td>\n",
       "      <td>3738</td>\n",
       "      <td>1297</td>\n",
       "    </tr>\n",
       "    <tr>\n",
       "      <th>2</th>\n",
       "      <td>1</td>\n",
       "      <td>1</td>\n",
       "      <td>4261</td>\n",
       "      <td>1335</td>\n",
       "    </tr>\n",
       "    <tr>\n",
       "      <th>3</th>\n",
       "      <td>1</td>\n",
       "      <td>1</td>\n",
       "      <td>3777</td>\n",
       "      <td>1282</td>\n",
       "    </tr>\n",
       "    <tr>\n",
       "      <th>4</th>\n",
       "      <td>1</td>\n",
       "      <td>1</td>\n",
       "      <td>4177</td>\n",
       "      <td>1590</td>\n",
       "    </tr>\n",
       "  </tbody>\n",
       "</table>\n",
       "</div>"
      ],
      "text/plain": [
       "   Gender  Age Range  Head Size(cm^3)  Brain Weight(grams)\n",
       "0       1          1             4512                 1530\n",
       "1       1          1             3738                 1297\n",
       "2       1          1             4261                 1335\n",
       "3       1          1             3777                 1282\n",
       "4       1          1             4177                 1590"
      ]
     },
     "execution_count": 3,
     "metadata": {},
     "output_type": "execute_result"
    }
   ],
   "source": [
    "df.head()"
   ]
  },
  {
   "cell_type": "code",
   "execution_count": 4,
   "metadata": {},
   "outputs": [],
   "source": [
    "x = df['Head Size(cm^3)']\n",
    "y = df['Brain Weight(grams)']"
   ]
  },
  {
   "cell_type": "code",
   "execution_count": 5,
   "metadata": {},
   "outputs": [],
   "source": [
    "x_mean = np.mean(x)\n",
    "y_mean = np.mean(y)"
   ]
  },
  {
   "cell_type": "code",
   "execution_count": 6,
   "metadata": {},
   "outputs": [],
   "source": [
    "df['X-X\\'(A)'] = df['Head Size(cm^3)'] - x_mean\n",
    "df['Y-Y\\'(B)'] = df['Brain Weight(grams)'] - y_mean\n",
    "df['A*B'] = df['X-X\\'(A)'] * df['Y-Y\\'(B)']\n",
    "df['A^2'] = df['X-X\\'(A)']**2"
   ]
  },
  {
   "cell_type": "code",
   "execution_count": 7,
   "metadata": {},
   "outputs": [
    {
     "data": {
      "text/html": [
       "<div>\n",
       "<style scoped>\n",
       "    .dataframe tbody tr th:only-of-type {\n",
       "        vertical-align: middle;\n",
       "    }\n",
       "\n",
       "    .dataframe tbody tr th {\n",
       "        vertical-align: top;\n",
       "    }\n",
       "\n",
       "    .dataframe thead th {\n",
       "        text-align: right;\n",
       "    }\n",
       "</style>\n",
       "<table border=\"1\" class=\"dataframe\">\n",
       "  <thead>\n",
       "    <tr style=\"text-align: right;\">\n",
       "      <th></th>\n",
       "      <th>Gender</th>\n",
       "      <th>Age Range</th>\n",
       "      <th>Head Size(cm^3)</th>\n",
       "      <th>Brain Weight(grams)</th>\n",
       "      <th>X-X'(A)</th>\n",
       "      <th>Y-Y'(B)</th>\n",
       "      <th>A*B</th>\n",
       "      <th>A^2</th>\n",
       "    </tr>\n",
       "  </thead>\n",
       "  <tbody>\n",
       "    <tr>\n",
       "      <th>0</th>\n",
       "      <td>1</td>\n",
       "      <td>1</td>\n",
       "      <td>4512</td>\n",
       "      <td>1530</td>\n",
       "      <td>878.008439</td>\n",
       "      <td>247.126582</td>\n",
       "      <td>216979.224697</td>\n",
       "      <td>770898.818637</td>\n",
       "    </tr>\n",
       "    <tr>\n",
       "      <th>1</th>\n",
       "      <td>1</td>\n",
       "      <td>1</td>\n",
       "      <td>3738</td>\n",
       "      <td>1297</td>\n",
       "      <td>104.008439</td>\n",
       "      <td>14.126582</td>\n",
       "      <td>1469.283769</td>\n",
       "      <td>10817.755345</td>\n",
       "    </tr>\n",
       "    <tr>\n",
       "      <th>2</th>\n",
       "      <td>1</td>\n",
       "      <td>1</td>\n",
       "      <td>4261</td>\n",
       "      <td>1335</td>\n",
       "      <td>627.008439</td>\n",
       "      <td>52.126582</td>\n",
       "      <td>32683.806975</td>\n",
       "      <td>393139.582350</td>\n",
       "    </tr>\n",
       "    <tr>\n",
       "      <th>3</th>\n",
       "      <td>1</td>\n",
       "      <td>1</td>\n",
       "      <td>3777</td>\n",
       "      <td>1282</td>\n",
       "      <td>143.008439</td>\n",
       "      <td>-0.873418</td>\n",
       "      <td>-124.906105</td>\n",
       "      <td>20451.413573</td>\n",
       "    </tr>\n",
       "    <tr>\n",
       "      <th>4</th>\n",
       "      <td>1</td>\n",
       "      <td>1</td>\n",
       "      <td>4177</td>\n",
       "      <td>1590</td>\n",
       "      <td>543.008439</td>\n",
       "      <td>307.126582</td>\n",
       "      <td>166772.325963</td>\n",
       "      <td>294858.164628</td>\n",
       "    </tr>\n",
       "  </tbody>\n",
       "</table>\n",
       "</div>"
      ],
      "text/plain": [
       "   Gender  Age Range  Head Size(cm^3)  Brain Weight(grams)     X-X'(A)  \\\n",
       "0       1          1             4512                 1530  878.008439   \n",
       "1       1          1             3738                 1297  104.008439   \n",
       "2       1          1             4261                 1335  627.008439   \n",
       "3       1          1             3777                 1282  143.008439   \n",
       "4       1          1             4177                 1590  543.008439   \n",
       "\n",
       "      Y-Y'(B)            A*B            A^2  \n",
       "0  247.126582  216979.224697  770898.818637  \n",
       "1   14.126582    1469.283769   10817.755345  \n",
       "2   52.126582   32683.806975  393139.582350  \n",
       "3   -0.873418    -124.906105   20451.413573  \n",
       "4  307.126582  166772.325963  294858.164628  "
      ]
     },
     "execution_count": 7,
     "metadata": {},
     "output_type": "execute_result"
    }
   ],
   "source": [
    "df.head()"
   ]
  },
  {
   "cell_type": "code",
   "execution_count": 8,
   "metadata": {},
   "outputs": [
    {
     "name": "stdout",
     "output_type": "stream",
     "text": [
      "0.26342933948939945\n"
     ]
    }
   ],
   "source": [
    "m = sum(df['A*B'])/sum(df['A^2'])\n",
    "print(m)"
   ]
  },
  {
   "cell_type": "code",
   "execution_count": 9,
   "metadata": {},
   "outputs": [
    {
     "name": "stdout",
     "output_type": "stream",
     "text": [
      "325.57342104944223\n"
     ]
    }
   ],
   "source": [
    "c = y_mean - m * x_mean\n",
    "print(c)"
   ]
  },
  {
   "cell_type": "code",
   "execution_count": 10,
   "metadata": {},
   "outputs": [
    {
     "data": {
      "text/html": [
       "<div>\n",
       "<style scoped>\n",
       "    .dataframe tbody tr th:only-of-type {\n",
       "        vertical-align: middle;\n",
       "    }\n",
       "\n",
       "    .dataframe tbody tr th {\n",
       "        vertical-align: top;\n",
       "    }\n",
       "\n",
       "    .dataframe thead th {\n",
       "        text-align: right;\n",
       "    }\n",
       "</style>\n",
       "<table border=\"1\" class=\"dataframe\">\n",
       "  <thead>\n",
       "    <tr style=\"text-align: right;\">\n",
       "      <th></th>\n",
       "      <th>Gender</th>\n",
       "      <th>Age Range</th>\n",
       "      <th>Head Size(cm^3)</th>\n",
       "      <th>Brain Weight(grams)</th>\n",
       "      <th>X-X'(A)</th>\n",
       "      <th>Y-Y'(B)</th>\n",
       "      <th>A*B</th>\n",
       "      <th>A^2</th>\n",
       "      <th>Predicted Values(Yp)</th>\n",
       "      <th>Yp - Y'(C)</th>\n",
       "      <th>C^2</th>\n",
       "      <th>B^2</th>\n",
       "    </tr>\n",
       "  </thead>\n",
       "  <tbody>\n",
       "    <tr>\n",
       "      <th>0</th>\n",
       "      <td>1</td>\n",
       "      <td>1</td>\n",
       "      <td>4512</td>\n",
       "      <td>1530</td>\n",
       "      <td>878.008439</td>\n",
       "      <td>247.126582</td>\n",
       "      <td>216979.224697</td>\n",
       "      <td>770898.818637</td>\n",
       "      <td>1514.166601</td>\n",
       "      <td>231.293183</td>\n",
       "      <td>53496.536550</td>\n",
       "      <td>61071.547669</td>\n",
       "    </tr>\n",
       "    <tr>\n",
       "      <th>1</th>\n",
       "      <td>1</td>\n",
       "      <td>1</td>\n",
       "      <td>3738</td>\n",
       "      <td>1297</td>\n",
       "      <td>104.008439</td>\n",
       "      <td>14.126582</td>\n",
       "      <td>1469.283769</td>\n",
       "      <td>10817.755345</td>\n",
       "      <td>1310.272292</td>\n",
       "      <td>27.398874</td>\n",
       "      <td>750.698315</td>\n",
       "      <td>199.560327</td>\n",
       "    </tr>\n",
       "    <tr>\n",
       "      <th>2</th>\n",
       "      <td>1</td>\n",
       "      <td>1</td>\n",
       "      <td>4261</td>\n",
       "      <td>1335</td>\n",
       "      <td>627.008439</td>\n",
       "      <td>52.126582</td>\n",
       "      <td>32683.806975</td>\n",
       "      <td>393139.582350</td>\n",
       "      <td>1448.045837</td>\n",
       "      <td>165.172419</td>\n",
       "      <td>27281.927963</td>\n",
       "      <td>2717.180580</td>\n",
       "    </tr>\n",
       "    <tr>\n",
       "      <th>3</th>\n",
       "      <td>1</td>\n",
       "      <td>1</td>\n",
       "      <td>3777</td>\n",
       "      <td>1282</td>\n",
       "      <td>143.008439</td>\n",
       "      <td>-0.873418</td>\n",
       "      <td>-124.906105</td>\n",
       "      <td>20451.413573</td>\n",
       "      <td>1320.546036</td>\n",
       "      <td>37.672619</td>\n",
       "      <td>1419.226191</td>\n",
       "      <td>0.762859</td>\n",
       "    </tr>\n",
       "    <tr>\n",
       "      <th>4</th>\n",
       "      <td>1</td>\n",
       "      <td>1</td>\n",
       "      <td>4177</td>\n",
       "      <td>1590</td>\n",
       "      <td>543.008439</td>\n",
       "      <td>307.126582</td>\n",
       "      <td>166772.325963</td>\n",
       "      <td>294858.164628</td>\n",
       "      <td>1425.917772</td>\n",
       "      <td>143.044354</td>\n",
       "      <td>20461.687319</td>\n",
       "      <td>94326.737542</td>\n",
       "    </tr>\n",
       "  </tbody>\n",
       "</table>\n",
       "</div>"
      ],
      "text/plain": [
       "   Gender  Age Range  Head Size(cm^3)  Brain Weight(grams)     X-X'(A)  \\\n",
       "0       1          1             4512                 1530  878.008439   \n",
       "1       1          1             3738                 1297  104.008439   \n",
       "2       1          1             4261                 1335  627.008439   \n",
       "3       1          1             3777                 1282  143.008439   \n",
       "4       1          1             4177                 1590  543.008439   \n",
       "\n",
       "      Y-Y'(B)            A*B            A^2  Predicted Values(Yp)  Yp - Y'(C)  \\\n",
       "0  247.126582  216979.224697  770898.818637           1514.166601  231.293183   \n",
       "1   14.126582    1469.283769   10817.755345           1310.272292   27.398874   \n",
       "2   52.126582   32683.806975  393139.582350           1448.045837  165.172419   \n",
       "3   -0.873418    -124.906105   20451.413573           1320.546036   37.672619   \n",
       "4  307.126582  166772.325963  294858.164628           1425.917772  143.044354   \n",
       "\n",
       "            C^2           B^2  \n",
       "0  53496.536550  61071.547669  \n",
       "1    750.698315    199.560327  \n",
       "2  27281.927963   2717.180580  \n",
       "3   1419.226191      0.762859  \n",
       "4  20461.687319  94326.737542  "
      ]
     },
     "execution_count": 10,
     "metadata": {},
     "output_type": "execute_result"
    }
   ],
   "source": [
    "df['Predicted Values(Yp)'] = m * df['Head Size(cm^3)'] + c\n",
    "df['Yp - Y\\'(C)'] = df['Predicted Values(Yp)'] - y_mean\n",
    "df['C^2'] = df['Yp - Y\\'(C)'] ** 2\n",
    "df['B^2'] = df['Y-Y\\'(B)'] ** 2\n",
    "df.head()"
   ]
  },
  {
   "cell_type": "code",
   "execution_count": 11,
   "metadata": {
    "scrolled": true
   },
   "outputs": [
    {
     "name": "stdout",
     "output_type": "stream",
     "text": [
      "R square value: 0.3606882800429999\n"
     ]
    }
   ],
   "source": [
    "print(f\"R square value: {1 - sum(df['C^2'])/sum(df['B^2'])}\")"
   ]
  },
  {
   "cell_type": "code",
   "execution_count": 12,
   "metadata": {},
   "outputs": [
    {
     "data": {
      "text/plain": [
       "Text(0, 0.5, 'Brain Weight(grams)')"
      ]
     },
     "execution_count": 12,
     "metadata": {},
     "output_type": "execute_result"
    },
    {
     "data": {
      "image/png": "[encoded data removed]",
      "text/plain": [
       "<Figure size 1440x720 with 1 Axes>"
      ]
     },
     "metadata": {
      "needs_background": "light"
     },
     "output_type": "display_data"
    }
   ],
   "source": [
    "plt.scatter(x, y, c='#0000FF', label='Scatter plot')\n",
    "plt.plot(df['Head Size(cm^3)'], df['Predicted Values(Yp)'], c=\"#FF0000\", label='Regression Line')\n",
    "plt.xlabel('Head Size(cm^3)')\n",
    "plt.ylabel('Brain Weight(grams)')"
   ]
  }
 ],
 "metadata": {
  "kernelspec": {
   "display_name": "Python 3",
   "language": "python",
   "name": "python3"
  },
  "language_info": {
   "codemirror_mode": {
    "name": "ipython",
    "version": 3
   },
   "file_extension": ".py",
   "mimetype": "text/x-python",
   "name": "python",
   "nbconvert_exporter": "python",
   "pygments_lexer": "ipython3",
   "version": "3.8.5"
  }
 },
 "nbformat": 4,
 "nbformat_minor": 4
}
